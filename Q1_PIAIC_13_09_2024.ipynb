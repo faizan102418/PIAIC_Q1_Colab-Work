{
  "nbformat": 4,
  "nbformat_minor": 0,
  "metadata": {
    "colab": {
      "provenance": [],
      "authorship_tag": "ABX9TyNhZMINx/AFaRQyPBIx52Ms",
      "include_colab_link": true
    },
    "kernelspec": {
      "name": "python3",
      "display_name": "Python 3"
    },
    "language_info": {
      "name": "python"
    }
  },
  "cells": [
    {
      "cell_type": "markdown",
      "metadata": {
        "id": "view-in-github",
        "colab_type": "text"
      },
      "source": [
        "<a href=\"https://colab.research.google.com/github/faizan102418/PIAIC_Q1_Colab-Work/blob/main/Q1_PIAIC_13_09_2024.ipynb\" target=\"_parent\"><img src=\"https://colab.research.google.com/assets/colab-badge.svg\" alt=\"Open In Colab\"/></a>"
      ]
    },
    {
      "cell_type": "markdown",
      "source": [
        "## OOP Practice      "
      ],
      "metadata": {
        "id": "BHyzPCtFNkhX"
      }
    },
    {
      "cell_type": "markdown",
      "source": [
        " Date : 13 /Sep / 2024\n"
      ],
      "metadata": {
        "id": "GlQGCBwONUbA"
      }
    },
    {
      "cell_type": "code",
      "source": [
        "class ClassName:\n",
        "    name = \"Faizan Sjid\""
      ],
      "metadata": {
        "id": "bLwZqD0BOlA9"
      },
      "execution_count": 5,
      "outputs": []
    },
    {
      "cell_type": "code",
      "source": [
        "my_name = ClassName()"
      ],
      "metadata": {
        "id": "G7u4OPJAO0Yt"
      },
      "execution_count": 10,
      "outputs": []
    },
    {
      "cell_type": "code",
      "source": [
        "my_name.name"
      ],
      "metadata": {
        "colab": {
          "base_uri": "https://localhost:8080/",
          "height": 35
        },
        "id": "-1u2OI14O6m3",
        "outputId": "8117d6b9-1fc1-41b7-f607-c1bd447c129f"
      },
      "execution_count": 11,
      "outputs": [
        {
          "output_type": "execute_result",
          "data": {
            "text/plain": [
              "'Faizan Sjid'"
            ],
            "application/vnd.google.colaboratory.intrinsic+json": {
              "type": "string"
            }
          },
          "metadata": {},
          "execution_count": 11
        }
      ]
    },
    {
      "cell_type": "code",
      "source": [
        "class Student:\n",
        "  def __init__(self):\n",
        "    print(\"Hello Students\")\n",
        "  def show(self,name,age):\n",
        "    self.name = name\n",
        "    self.age = age\n",
        "    print(self.name,self.age)"
      ],
      "metadata": {
        "id": "KPm4tdk6RYb5"
      },
      "execution_count": 57,
      "outputs": []
    },
    {
      "cell_type": "code",
      "source": [
        "me_one = Student()\n",
        "me_two = Student()\n",
        "me_three = Student()\n",
        "me_one.show(\"Faizan\",21)\n",
        "me_two.show(\"Faizan\",21)\n",
        "me_three.show(\"Faizan\",21)"
      ],
      "metadata": {
        "colab": {
          "base_uri": "https://localhost:8080/"
        },
        "id": "aw72ACT9STzm",
        "outputId": "59747e19-5afd-4b90-aa6f-96a991c49086"
      },
      "execution_count": 59,
      "outputs": [
        {
          "output_type": "stream",
          "name": "stdout",
          "text": [
            "Hello Students\n",
            "Hello Students\n",
            "Hello Students\n",
            "Faizan 21\n",
            "Faizan 21\n",
            "Faizan 21\n"
          ]
        }
      ]
    },
    {
      "cell_type": "code",
      "source": [
        "# print(me_one.name)\n",
        "# print(me_one.age)\n",
        "# print(me_two.name)\n",
        "# print(me_two.age)\n",
        "# print(me_three.name)\n",
        "# print(me_three.age)\n",
        "me_one.show()"
      ],
      "metadata": {
        "colab": {
          "base_uri": "https://localhost:8080/"
        },
        "id": "j5U1dULbUxcY",
        "outputId": "eff91e48-3f5e-4b7c-ea20-2bba0f43c3fa"
      },
      "execution_count": 49,
      "outputs": [
        {
          "output_type": "stream",
          "name": "stdout",
          "text": [
            "Faizan 22\n"
          ]
        }
      ]
    },
    {
      "cell_type": "code",
      "source": [
        "class Arithematics:\n",
        "  def __init__(self,a,b):\n",
        "    self.a = a\n",
        "    self.b = b\n",
        "  def add(self):\n",
        "    return self.a + self.b\n",
        "  def sub(self):\n",
        "    return self.a - self.b\n",
        "  def mul(self):\n",
        "    return self.a * self.b"
      ],
      "metadata": {
        "id": "4sTy9yeOdyBT"
      },
      "execution_count": 62,
      "outputs": []
    },
    {
      "cell_type": "code",
      "source": [
        "addition = Arithematics(10,20)\n",
        "multiplication = Arithematics(10,20)\n",
        "subtraction = Arithematics(10,20)\n"
      ],
      "metadata": {
        "id": "XRPC-UHmgIsX"
      },
      "execution_count": 64,
      "outputs": []
    },
    {
      "cell_type": "code",
      "source": [
        "print(addition.add())\n",
        "print(multiplication.mul())\n",
        "subtraction.sub()"
      ],
      "metadata": {
        "colab": {
          "base_uri": "https://localhost:8080/"
        },
        "id": "giSSB1hRgTyj",
        "outputId": "a72e2977-243b-4838-d4db-3b11051b7242"
      },
      "execution_count": 71,
      "outputs": [
        {
          "output_type": "stream",
          "name": "stdout",
          "text": [
            "30\n",
            "200\n"
          ]
        },
        {
          "output_type": "execute_result",
          "data": {
            "text/plain": [
              "-10"
            ]
          },
          "metadata": {},
          "execution_count": 71
        }
      ]
    },
    {
      "cell_type": "markdown",
      "source": [
        "## Decorator functions"
      ],
      "metadata": {
        "id": "cEGrA2GbhXcp"
      }
    },
    {
      "cell_type": "code",
      "source": [
        "class MathOperations:\n",
        "  @staticmethod\n",
        "  def add(a,b):\n",
        "    return a + b\n",
        "\n",
        "  @staticmethod\n",
        "  def sub(a,b):\n",
        "    return a - b\n",
        "\n",
        "  @staticmethod\n",
        "  def mul(a,b):\n",
        "    return a * b\n",
        "\n",
        "addition = MathOperations()\n",
        "adding = addition.add(10,20)\n",
        "print(adding)\n",
        "multiplication = MathOperations()\n",
        "multiply = multiplication.mul(10,20)\n",
        "print(multiply)\n",
        "subtraction = MathOperations()\n",
        "sub = subtraction.sub(10,20)\n",
        "print(sub)\n"
      ],
      "metadata": {
        "colab": {
          "base_uri": "https://localhost:8080/"
        },
        "id": "U_ERaXpMii8H",
        "outputId": "f2be167b-fd01-42a2-9c65-4ce3dbe0071c"
      },
      "execution_count": 83,
      "outputs": [
        {
          "output_type": "stream",
          "name": "stdout",
          "text": [
            "30\n",
            "200\n",
            "-10\n"
          ]
        }
      ]
    },
    {
      "cell_type": "code",
      "source": [
        "class MathOperations: # Does not access or Instance of class\n",
        "  name = \"Faizan\"\n",
        "  @staticmethod\n",
        "  def add(a,b):\n",
        "    return a + b\n",
        ""
      ],
      "metadata": {
        "id": "RZVI7dyhlI9y"
      },
      "execution_count": 92,
      "outputs": []
    },
    {
      "cell_type": "code",
      "source": [
        "obj = MathOperations()"
      ],
      "metadata": {
        "id": "EpKRAIRRlXvT"
      },
      "execution_count": 93,
      "outputs": []
    },
    {
      "cell_type": "code",
      "source": [
        "MathOperations.add(10,20)"
      ],
      "metadata": {
        "colab": {
          "base_uri": "https://localhost:8080/"
        },
        "id": "lVNoqW9dla_D",
        "outputId": "01dd4fe3-8b8e-4db1-8f5b-2a206883375c"
      },
      "execution_count": 91,
      "outputs": [
        {
          "output_type": "execute_result",
          "data": {
            "text/plain": [
              "30"
            ]
          },
          "metadata": {},
          "execution_count": 91
        }
      ]
    },
    {
      "cell_type": "code",
      "source": [
        "class Example:\n",
        "  class_variable = 10\n",
        ""
      ],
      "metadata": {
        "id": "fIIoVvTTlbiL"
      },
      "execution_count": null,
      "outputs": []
    }
  ]
}