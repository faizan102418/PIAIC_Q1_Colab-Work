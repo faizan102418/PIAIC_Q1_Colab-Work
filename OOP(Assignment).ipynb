{
  "nbformat": 4,
  "nbformat_minor": 0,
  "metadata": {
    "colab": {
      "provenance": [],
      "authorship_tag": "ABX9TyOAnTWB2AH6j1kEKZcbYsb4",
      "include_colab_link": true
    },
    "kernelspec": {
      "name": "python3",
      "display_name": "Python 3"
    },
    "language_info": {
      "name": "python"
    }
  },
  "cells": [
    {
      "cell_type": "markdown",
      "metadata": {
        "id": "view-in-github",
        "colab_type": "text"
      },
      "source": [
        "<a href=\"https://colab.research.google.com/github/faizan102418/PIAIC_Q1_Colab-Work/blob/main/OOP(Assignment).ipynb\" target=\"_parent\"><img src=\"https://colab.research.google.com/assets/colab-badge.svg\" alt=\"Open In Colab\"/></a>"
      ]
    },
    {
      "cell_type": "code",
      "execution_count": 21,
      "metadata": {
        "colab": {
          "base_uri": "https://localhost:8080/"
        },
        "id": "GccXSXGSWwLF",
        "outputId": "1a1b7382-9f74-4219-abd2-7fd20dcadb9f"
      },
      "outputs": [
        {
          "output_type": "stream",
          "name": "stdout",
          "text": [
            "1. Create Account\n",
            "2. Deposit\n",
            "3. Withdraw\n",
            "4. Check Balance\n",
            "5. Exit\n",
            "Enter your choice: 1\n",
            "Enter user ID: 102418\n",
            "Account Created for the account 102418\n",
            "1. Create Account\n",
            "2. Deposit\n",
            "3. Withdraw\n",
            "4. Check Balance\n",
            "5. Exit\n",
            "Enter your choice: 4\n",
            "Enter user ID: 102418\n",
            "Account 102418 balance is 0\n",
            "1. Create Account\n",
            "2. Deposit\n",
            "3. Withdraw\n",
            "4. Check Balance\n",
            "5. Exit\n",
            "Enter your choice: 5\n",
            "Thank you for using the ATM. Goodbye!\n"
          ]
        }
      ],
      "source": [
        "class BankAccount:\n",
        "    def __init__(self):\n",
        "      self.accounts = {}\n",
        "\n",
        "    def create_account(self,user_id):\n",
        "      if user_id in self.accounts:\n",
        "        print(f\"{user_id} already exits !\")\n",
        "\n",
        "      else:\n",
        "        self.accounts[user_id] = 0\n",
        "        print(f\"Account Created for the account {user_id}\")\n",
        "\n",
        "    def deposit(self,user_id,amount):\n",
        "      if user_id not in self.accounts:\n",
        "        print(f\"Account not found for {user_id}\")\n",
        "      else:\n",
        "        self.accounts[user_id] += amount\n",
        "        print(f\"Deposited {amount} to account {user_id}\")\n",
        "\n",
        "    def withdraw(self,user_id,amount):\n",
        "      if user_id not in self.accounts:\n",
        "        print(f\"Account not found for {user_id}\")\n",
        "      else:\n",
        "        if self.accounts[user_id] >= amount:\n",
        "          self.accounts[user_id] -= amount\n",
        "          print(f\"Withdrew {amount} from account {user_id}\")\n",
        "        else:\n",
        "          print(f\"Insufficient balance in account {user_id}\")\n",
        "\n",
        "    def check_balance(self,user_id):\n",
        "        if user_id not in self.accounts:\n",
        "          print(f\"Account not found for {user_id}\")\n",
        "        else:\n",
        "          balance = self.accounts[user_id]\n",
        "          print(f\"Account {user_id} balance is {balance}\")\n",
        "\n",
        "\n",
        "\n",
        "    def menu(self):\n",
        "        while True:\n",
        "          print(\"1. Create Account\")\n",
        "          print(\"2. Deposit\")\n",
        "          print(\"3. Withdraw\")\n",
        "          print(\"4. Check Balance\")\n",
        "          print(\"5. Exit\")\n",
        "\n",
        "          choice = input(\"Enter your choice: \")\n",
        "          if choice == \"1\":\n",
        "            user_id = input(\"Enter user ID: \")\n",
        "            self.create_account(user_id)\n",
        "          elif choice == \"2\":\n",
        "            user_id = input(\"Enter user ID: \")\n",
        "            amount = float(input(\"Enter amount to deposit: \"))\n",
        "            self.deposit(user_id,amount)\n",
        "          elif choice == \"3\":\n",
        "            user_id = input(\"Enter user ID: \")\n",
        "            amount = float(input(\"Enter amount to withdraw: \"))\n",
        "            self.withdraw(user_id,amount)\n",
        "          elif choice == \"4\":\n",
        "            user_id = input(\"Enter user ID: \")\n",
        "            self.check_balance(user_id)\n",
        "          elif choice == \"5\":\n",
        "            print(\"Thank you for using the ATM. Goodbye!\")\n",
        "            break\n",
        "          else:\n",
        "            print(\"Invalid choice. Please try again\")\n",
        "user = BankAccount()\n",
        "user.menu()"
      ]
    },
    {
      "cell_type": "code",
      "source": [],
      "metadata": {
        "id": "SkZxv3e_jlfR"
      },
      "execution_count": null,
      "outputs": []
    }
  ]
}